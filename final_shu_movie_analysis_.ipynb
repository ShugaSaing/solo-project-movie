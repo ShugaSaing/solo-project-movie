{
 "cells": [
  {
   "cell_type": "markdown",
   "metadata": {
    "id": "gSLqEcLAmRo1"
   },
   "source": [
    "# Movie Analysis for Microsoft \n",
    "The purpose of this project is to analyze the movies data sets to produce 3 important recommendation to help jump start microsoft stepping in the movie industry. Our findings will include: how, where and what to start with. Let's dive in! "
   ]
  },
  {
   "cell_type": "markdown",
   "metadata": {
    "id": "X5IoQ5AvmVnS"
   },
   "source": [
    "Here's an outline of the project:\n",
    "\n",
    "- Import the dataset\n",
    "- Understand the dataset\n",
    "- Clean the dataset \n",
    "- Visualize the dataset\n",
    "- Recommendations  "
   ]
  },
  {
   "cell_type": "markdown",
   "metadata": {
    "id": "xTUGwxOpmb1Z"
   },
   "source": [
    "## 1. Import the Dataset\n",
    "\n",
    "Steps:\n",
    "\n",
    "- Install required libraries\n",
    "- Import the libraries\n",
    "- Import the dataset \n",
    "We use data sets from containting information on movies released between 2010-2019. "
   ]
  },
  {
   "cell_type": "markdown",
   "metadata": {
    "id": "lpLsalISmgxv"
   },
   "source": [
    "### Install Required Libraries"
   ]
  },
  {
   "cell_type": "code",
   "execution_count": 1,
   "metadata": {
    "id": "UTcxsw3RmjbI"
   },
   "outputs": [],
   "source": [
    "!pip install pandas numpy --quiet"
   ]
  },
  {
   "cell_type": "code",
   "execution_count": 2,
   "metadata": {
    "id": "imSFZ6O3mIIJ"
   },
   "outputs": [],
   "source": [
    "import pandas as pd\n",
    "import sqlite3\n",
    "pd.options.display.float_format = '{:.2f}'.format \n",
    "import numpy as np \n",
    "import seaborn as sns\n",
    "import matplotlib.pyplot as plt\n",
    "%matplotlib inline "
   ]
  },
  {
   "cell_type": "markdown",
   "metadata": {
    "id": "a0jPvvhym5GZ"
   },
   "source": [
    "### Importing the Dataset "
   ]
  },
  {
   "cell_type": "code",
   "execution_count": 3,
   "metadata": {
    "id": "yZgRxlLimIIK"
   },
   "outputs": [],
   "source": [
    "# We have original_language\toriginal_title\tpopularity\trelease_date\ttitle\tvote_average\tvote_count and year of the movie.\n",
    "movie_info = pd.read_csv('zippedData/tmdb.movies.csv.gz',parse_dates=['release_date'])\n",
    "genre_info = pd.read_csv('abc.csv')\n",
    "bom_info=pd.read_csv('zippedData/bom.movie_gross.csv.gz')\n"
   ]
  },
  {
   "cell_type": "markdown",
   "metadata": {
    "id": "nG4O_ygjREtt"
   },
   "source": [
    "## Understand the dataset"
   ]
  },
  {
   "cell_type": "code",
   "execution_count": 4,
   "metadata": {
    "colab": {
     "base_uri": "https://localhost:8080/",
     "height": 332
    },
    "id": "rLX8vSrH1_q9",
    "outputId": "6fbca0a1-de66-48cf-85de-c96608fe1257",
    "scrolled": true
   },
   "outputs": [
    {
     "data": {
      "text/html": [
       "<div>\n",
       "<style scoped>\n",
       "    .dataframe tbody tr th:only-of-type {\n",
       "        vertical-align: middle;\n",
       "    }\n",
       "\n",
       "    .dataframe tbody tr th {\n",
       "        vertical-align: top;\n",
       "    }\n",
       "\n",
       "    .dataframe thead th {\n",
       "        text-align: right;\n",
       "    }\n",
       "</style>\n",
       "<table border=\"1\" class=\"dataframe\">\n",
       "  <thead>\n",
       "    <tr style=\"text-align: right;\">\n",
       "      <th></th>\n",
       "      <th>Unnamed: 0</th>\n",
       "      <th>genre_ids</th>\n",
       "      <th>id</th>\n",
       "      <th>original_language</th>\n",
       "      <th>original_title</th>\n",
       "      <th>popularity</th>\n",
       "      <th>release_date</th>\n",
       "      <th>title</th>\n",
       "      <th>vote_average</th>\n",
       "      <th>vote_count</th>\n",
       "    </tr>\n",
       "  </thead>\n",
       "  <tbody>\n",
       "    <tr>\n",
       "      <th>0</th>\n",
       "      <td>0</td>\n",
       "      <td>[12, 14, 10751]</td>\n",
       "      <td>12444</td>\n",
       "      <td>en</td>\n",
       "      <td>Harry Potter and the Deathly Hallows: Part 1</td>\n",
       "      <td>33.53</td>\n",
       "      <td>2010-11-19</td>\n",
       "      <td>Harry Potter and the Deathly Hallows: Part 1</td>\n",
       "      <td>7.70</td>\n",
       "      <td>10788</td>\n",
       "    </tr>\n",
       "    <tr>\n",
       "      <th>1</th>\n",
       "      <td>1</td>\n",
       "      <td>[14, 12, 16, 10751]</td>\n",
       "      <td>10191</td>\n",
       "      <td>en</td>\n",
       "      <td>How to Train Your Dragon</td>\n",
       "      <td>28.73</td>\n",
       "      <td>2010-03-26</td>\n",
       "      <td>How to Train Your Dragon</td>\n",
       "      <td>7.70</td>\n",
       "      <td>7610</td>\n",
       "    </tr>\n",
       "  </tbody>\n",
       "</table>\n",
       "</div>"
      ],
      "text/plain": [
       "   Unnamed: 0            genre_ids     id original_language  \\\n",
       "0           0      [12, 14, 10751]  12444                en   \n",
       "1           1  [14, 12, 16, 10751]  10191                en   \n",
       "\n",
       "                                 original_title  popularity release_date  \\\n",
       "0  Harry Potter and the Deathly Hallows: Part 1       33.53   2010-11-19   \n",
       "1                      How to Train Your Dragon       28.73   2010-03-26   \n",
       "\n",
       "                                          title  vote_average  vote_count  \n",
       "0  Harry Potter and the Deathly Hallows: Part 1          7.70       10788  \n",
       "1                      How to Train Your Dragon          7.70        7610  "
      ]
     },
     "execution_count": 4,
     "metadata": {},
     "output_type": "execute_result"
    }
   ],
   "source": [
    "#Print the dataset representing number of columns\n",
    "movie_info.head(2)"
   ]
  },
  {
   "cell_type": "code",
   "execution_count": 5,
   "metadata": {
    "colab": {
     "base_uri": "https://localhost:8080/"
    },
    "id": "IOLDz3IJs8PM",
    "outputId": "e6f02858-d05b-40a6-eafe-ad5f6abaf2c4"
   },
   "outputs": [
    {
     "name": "stdout",
     "output_type": "stream",
     "text": [
      "Index(['Unnamed: 0', 'genre_ids', 'id', 'original_language', 'original_title',\n",
      "       'popularity', 'release_date', 'title', 'vote_average', 'vote_count'],\n",
      "      dtype='object')\n"
     ]
    }
   ],
   "source": [
    "# No of columns in the dataset \n",
    "print(movie_info.columns)"
   ]
  },
  {
   "cell_type": "code",
   "execution_count": 6,
   "metadata": {
    "id": "_CGuucCssqnx"
   },
   "outputs": [],
   "source": [
    "movie_info=movie_info[['genre_ids', 'id', 'original_language', 'original_title',\n",
    "       'popularity', 'release_date', 'title', 'vote_average', 'vote_count']]"
   ]
  },
  {
   "cell_type": "code",
   "execution_count": 7,
   "metadata": {
    "colab": {
     "base_uri": "https://localhost:8080/"
    },
    "id": "UFCOrgOXmIIN",
    "outputId": "b7307881-9da5-4318-cb34-e973809eeed6"
   },
   "outputs": [
    {
     "data": {
      "text/plain": [
       "(26517, 9)"
      ]
     },
     "execution_count": 7,
     "metadata": {},
     "output_type": "execute_result"
    }
   ],
   "source": [
    "### Checking No of rows and columns in the dataset .\n",
    "movie_info.shape "
   ]
  },
  {
   "cell_type": "code",
   "execution_count": 8,
   "metadata": {
    "id": "fhej8kAvmIIQ"
   },
   "outputs": [],
   "source": [
    "#drop null values in the dataset\n",
    "movie_info.dropna(inplace=True)"
   ]
  },
  {
   "cell_type": "code",
   "execution_count": 9,
   "metadata": {
    "colab": {
     "base_uri": "https://localhost:8080/"
    },
    "id": "R3GcBlDmmIIR",
    "outputId": "e3ff42e2-10de-402a-e806-a6ee985c0af9",
    "scrolled": true
   },
   "outputs": [
    {
     "data": {
      "text/plain": [
       "genre_ids            0\n",
       "id                   0\n",
       "original_language    0\n",
       "original_title       0\n",
       "popularity           0\n",
       "release_date         0\n",
       "title                0\n",
       "vote_average         0\n",
       "vote_count           0\n",
       "dtype: int64"
      ]
     },
     "execution_count": 9,
     "metadata": {},
     "output_type": "execute_result"
    }
   ],
   "source": [
    "#There is no null values present in the dataset.\n",
    "movie_info.isnull().sum()"
   ]
  },
  {
   "cell_type": "markdown",
   "metadata": {
    "id": "H7Zm8FOzRL1G"
   },
   "source": [
    "## Clean the dataset\n",
    "We dropped missing values, converted data types, and merged the two data sets on production studio column. "
   ]
  },
  {
   "cell_type": "code",
   "execution_count": 10,
   "metadata": {
    "id": "dgN8aMKWuhWn"
   },
   "outputs": [],
   "source": [
    "# Drop Duplicates values \n",
    "movie_info.drop_duplicates(keep='first', inplace=True)"
   ]
  },
  {
   "cell_type": "code",
   "execution_count": 11,
   "metadata": {
    "colab": {
     "base_uri": "https://localhost:8080/"
    },
    "id": "iFcPZD4YmIIS",
    "outputId": "169d4302-9d68-4aff-eda0-4d928009a86b",
    "scrolled": true
   },
   "outputs": [
    {
     "name": "stdout",
     "output_type": "stream",
     "text": [
      "Are there any duplicated values in movies  data : False\n"
     ]
    }
   ],
   "source": [
    "# Check os theres any duplicate values in the dataset.\n",
    "movie=movie_info.duplicated().any()\n",
    "print(\"Are there any duplicated values in movies  data :\", movie)"
   ]
  },
  {
   "cell_type": "code",
   "execution_count": 12,
   "metadata": {
    "colab": {
     "base_uri": "https://localhost:8080/",
     "height": 300
    },
    "id": "Y-f3-4xXmIIT",
    "outputId": "dc21ae6f-530b-4425-9660-b58d1c8f7f57",
    "scrolled": false
   },
   "outputs": [
    {
     "data": {
      "text/html": [
       "<div>\n",
       "<style scoped>\n",
       "    .dataframe tbody tr th:only-of-type {\n",
       "        vertical-align: middle;\n",
       "    }\n",
       "\n",
       "    .dataframe tbody tr th {\n",
       "        vertical-align: top;\n",
       "    }\n",
       "\n",
       "    .dataframe thead th {\n",
       "        text-align: right;\n",
       "    }\n",
       "</style>\n",
       "<table border=\"1\" class=\"dataframe\">\n",
       "  <thead>\n",
       "    <tr style=\"text-align: right;\">\n",
       "      <th></th>\n",
       "      <th>id</th>\n",
       "      <th>popularity</th>\n",
       "      <th>vote_average</th>\n",
       "      <th>vote_count</th>\n",
       "    </tr>\n",
       "  </thead>\n",
       "  <tbody>\n",
       "    <tr>\n",
       "      <th>count</th>\n",
       "      <td>25497.00</td>\n",
       "      <td>25497.00</td>\n",
       "      <td>25497.00</td>\n",
       "      <td>25497.00</td>\n",
       "    </tr>\n",
       "    <tr>\n",
       "      <th>mean</th>\n",
       "      <td>294203.96</td>\n",
       "      <td>3.04</td>\n",
       "      <td>5.98</td>\n",
       "      <td>178.80</td>\n",
       "    </tr>\n",
       "    <tr>\n",
       "      <th>std</th>\n",
       "      <td>154690.25</td>\n",
       "      <td>4.26</td>\n",
       "      <td>1.87</td>\n",
       "      <td>914.15</td>\n",
       "    </tr>\n",
       "    <tr>\n",
       "      <th>min</th>\n",
       "      <td>27.00</td>\n",
       "      <td>0.60</td>\n",
       "      <td>0.00</td>\n",
       "      <td>1.00</td>\n",
       "    </tr>\n",
       "    <tr>\n",
       "      <th>25%</th>\n",
       "      <td>154770.00</td>\n",
       "      <td>0.60</td>\n",
       "      <td>5.00</td>\n",
       "      <td>1.00</td>\n",
       "    </tr>\n",
       "    <tr>\n",
       "      <th>50%</th>\n",
       "      <td>307125.00</td>\n",
       "      <td>1.32</td>\n",
       "      <td>6.00</td>\n",
       "      <td>5.00</td>\n",
       "    </tr>\n",
       "    <tr>\n",
       "      <th>75%</th>\n",
       "      <td>420707.00</td>\n",
       "      <td>3.49</td>\n",
       "      <td>7.00</td>\n",
       "      <td>25.00</td>\n",
       "    </tr>\n",
       "    <tr>\n",
       "      <th>max</th>\n",
       "      <td>608444.00</td>\n",
       "      <td>80.77</td>\n",
       "      <td>10.00</td>\n",
       "      <td>22186.00</td>\n",
       "    </tr>\n",
       "  </tbody>\n",
       "</table>\n",
       "</div>"
      ],
      "text/plain": [
       "             id  popularity  vote_average  vote_count\n",
       "count  25497.00    25497.00      25497.00    25497.00\n",
       "mean  294203.96        3.04          5.98      178.80\n",
       "std   154690.25        4.26          1.87      914.15\n",
       "min       27.00        0.60          0.00        1.00\n",
       "25%   154770.00        0.60          5.00        1.00\n",
       "50%   307125.00        1.32          6.00        5.00\n",
       "75%   420707.00        3.49          7.00       25.00\n",
       "max   608444.00       80.77         10.00    22186.00"
      ]
     },
     "execution_count": 12,
     "metadata": {},
     "output_type": "execute_result"
    }
   ],
   "source": [
    "# There is no outlier Present in the dataset .\n",
    "movie_info.describe()"
   ]
  },
  {
   "cell_type": "code",
   "execution_count": 13,
   "metadata": {
    "colab": {
     "base_uri": "https://localhost:8080/",
     "height": 156
    },
    "id": "nu_CLGii1tU7",
    "outputId": "116d395c-f89c-4c2c-f8e7-755499f6b29a"
   },
   "outputs": [
    {
     "data": {
      "text/html": [
       "<div>\n",
       "<style scoped>\n",
       "    .dataframe tbody tr th:only-of-type {\n",
       "        vertical-align: middle;\n",
       "    }\n",
       "\n",
       "    .dataframe tbody tr th {\n",
       "        vertical-align: top;\n",
       "    }\n",
       "\n",
       "    .dataframe thead th {\n",
       "        text-align: right;\n",
       "    }\n",
       "</style>\n",
       "<table border=\"1\" class=\"dataframe\">\n",
       "  <thead>\n",
       "    <tr style=\"text-align: right;\">\n",
       "      <th></th>\n",
       "      <th>Unnamed: 0</th>\n",
       "      <th>movie_id</th>\n",
       "      <th>primary_title</th>\n",
       "      <th>original_title</th>\n",
       "      <th>start_year</th>\n",
       "      <th>runtime_minutes</th>\n",
       "      <th>genres</th>\n",
       "    </tr>\n",
       "  </thead>\n",
       "  <tbody>\n",
       "    <tr>\n",
       "      <th>0</th>\n",
       "      <td>0</td>\n",
       "      <td>tt0063540</td>\n",
       "      <td>Sunghursh</td>\n",
       "      <td>Sunghursh</td>\n",
       "      <td>2013</td>\n",
       "      <td>175.00</td>\n",
       "      <td>Action,Crime,Drama</td>\n",
       "    </tr>\n",
       "    <tr>\n",
       "      <th>1</th>\n",
       "      <td>1</td>\n",
       "      <td>tt0066787</td>\n",
       "      <td>One Day Before the Rainy Season</td>\n",
       "      <td>Ashad Ka Ek Din</td>\n",
       "      <td>2019</td>\n",
       "      <td>114.00</td>\n",
       "      <td>Biography,Drama</td>\n",
       "    </tr>\n",
       "  </tbody>\n",
       "</table>\n",
       "</div>"
      ],
      "text/plain": [
       "   Unnamed: 0   movie_id                    primary_title   original_title  \\\n",
       "0           0  tt0063540                        Sunghursh        Sunghursh   \n",
       "1           1  tt0066787  One Day Before the Rainy Season  Ashad Ka Ek Din   \n",
       "\n",
       "   start_year  runtime_minutes              genres  \n",
       "0        2013           175.00  Action,Crime,Drama  \n",
       "1        2019           114.00     Biography,Drama  "
      ]
     },
     "execution_count": 13,
     "metadata": {},
     "output_type": "execute_result"
    }
   ],
   "source": [
    "genre_info.head(2)"
   ]
  },
  {
   "cell_type": "code",
   "execution_count": 14,
   "metadata": {
    "id": "M8NQXzur1Vzm"
   },
   "outputs": [],
   "source": [
    "#drop null values \n",
    "genre_info.dropna(inplace=True)"
   ]
  },
  {
   "cell_type": "code",
   "execution_count": 15,
   "metadata": {
    "colab": {
     "base_uri": "https://localhost:8080/"
    },
    "id": "kpqq2xZF1V4A",
    "outputId": "71f56bb9-be3c-43a5-d191-f791deca2cb1"
   },
   "outputs": [
    {
     "data": {
      "text/plain": [
       "Unnamed: 0         0\n",
       "movie_id           0\n",
       "primary_title      0\n",
       "original_title     0\n",
       "start_year         0\n",
       "runtime_minutes    0\n",
       "genres             0\n",
       "dtype: int64"
      ]
     },
     "execution_count": 15,
     "metadata": {},
     "output_type": "execute_result"
    }
   ],
   "source": [
    "#There is no null values present in the dataset.\n",
    "genre_info.isnull().sum()"
   ]
  },
  {
   "cell_type": "code",
   "execution_count": 16,
   "metadata": {
    "id": "B4IETEdp1V6l"
   },
   "outputs": [],
   "source": [
    "# Drop Duplicates values \n",
    "genre_info.drop_duplicates(keep='first', inplace=True)"
   ]
  },
  {
   "cell_type": "code",
   "execution_count": 17,
   "metadata": {
    "colab": {
     "base_uri": "https://localhost:8080/"
    },
    "id": "4x9uASev1V9L",
    "outputId": "f020d9a3-101a-44bd-dc68-ed80faecd195"
   },
   "outputs": [
    {
     "name": "stdout",
     "output_type": "stream",
     "text": [
      "Are there any duplicated values in Genre data : False\n"
     ]
    }
   ],
   "source": [
    "# Check os theres any duplicate values in the dataset.\n",
    "genre=genre_info.duplicated().any()\n",
    "print(\"Are there any duplicated values in Genre data :\", movie)"
   ]
  },
  {
   "cell_type": "code",
   "execution_count": 18,
   "metadata": {
    "colab": {
     "base_uri": "https://localhost:8080/",
     "height": 300
    },
    "id": "PefSbi6cmIIW",
    "outputId": "257a5c43-5ab2-4d5d-dc9d-00f704ea01fa"
   },
   "outputs": [
    {
     "data": {
      "text/html": [
       "<div>\n",
       "<style scoped>\n",
       "    .dataframe tbody tr th:only-of-type {\n",
       "        vertical-align: middle;\n",
       "    }\n",
       "\n",
       "    .dataframe tbody tr th {\n",
       "        vertical-align: top;\n",
       "    }\n",
       "\n",
       "    .dataframe thead th {\n",
       "        text-align: right;\n",
       "    }\n",
       "</style>\n",
       "<table border=\"1\" class=\"dataframe\">\n",
       "  <thead>\n",
       "    <tr style=\"text-align: right;\">\n",
       "      <th></th>\n",
       "      <th>Unnamed: 0</th>\n",
       "      <th>start_year</th>\n",
       "      <th>runtime_minutes</th>\n",
       "    </tr>\n",
       "  </thead>\n",
       "  <tbody>\n",
       "    <tr>\n",
       "      <th>count</th>\n",
       "      <td>112232.00</td>\n",
       "      <td>112232.00</td>\n",
       "      <td>112232.00</td>\n",
       "    </tr>\n",
       "    <tr>\n",
       "      <th>mean</th>\n",
       "      <td>70083.92</td>\n",
       "      <td>2014.40</td>\n",
       "      <td>86.26</td>\n",
       "    </tr>\n",
       "    <tr>\n",
       "      <th>std</th>\n",
       "      <td>41038.11</td>\n",
       "      <td>2.64</td>\n",
       "      <td>167.90</td>\n",
       "    </tr>\n",
       "    <tr>\n",
       "      <th>min</th>\n",
       "      <td>0.00</td>\n",
       "      <td>2010.00</td>\n",
       "      <td>1.00</td>\n",
       "    </tr>\n",
       "    <tr>\n",
       "      <th>25%</th>\n",
       "      <td>34545.75</td>\n",
       "      <td>2012.00</td>\n",
       "      <td>70.00</td>\n",
       "    </tr>\n",
       "    <tr>\n",
       "      <th>50%</th>\n",
       "      <td>68336.50</td>\n",
       "      <td>2014.00</td>\n",
       "      <td>87.00</td>\n",
       "    </tr>\n",
       "    <tr>\n",
       "      <th>75%</th>\n",
       "      <td>104076.25</td>\n",
       "      <td>2017.00</td>\n",
       "      <td>99.00</td>\n",
       "    </tr>\n",
       "    <tr>\n",
       "      <th>max</th>\n",
       "      <td>146139.00</td>\n",
       "      <td>2022.00</td>\n",
       "      <td>51420.00</td>\n",
       "    </tr>\n",
       "  </tbody>\n",
       "</table>\n",
       "</div>"
      ],
      "text/plain": [
       "       Unnamed: 0  start_year  runtime_minutes\n",
       "count   112232.00   112232.00        112232.00\n",
       "mean     70083.92     2014.40            86.26\n",
       "std      41038.11        2.64           167.90\n",
       "min          0.00     2010.00             1.00\n",
       "25%      34545.75     2012.00            70.00\n",
       "50%      68336.50     2014.00            87.00\n",
       "75%     104076.25     2017.00            99.00\n",
       "max     146139.00     2022.00         51420.00"
      ]
     },
     "execution_count": 18,
     "metadata": {},
     "output_type": "execute_result"
    }
   ],
   "source": [
    "genre_info.describe()"
   ]
  },
  {
   "cell_type": "code",
   "execution_count": 19,
   "metadata": {
    "colab": {
     "base_uri": "https://localhost:8080/"
    },
    "id": "2JHOFb_urBZr",
    "outputId": "65d982d6-c4bc-4ff8-bc33-85f30de92472"
   },
   "outputs": [
    {
     "name": "stdout",
     "output_type": "stream",
     "text": [
      "Index(['title', 'studio', 'domestic_gross', 'foreign_gross', 'year'], dtype='object')\n"
     ]
    }
   ],
   "source": [
    "# Bom contain title , Studio , Domestic Gross , Foriegn gross , year \n",
    "print(bom_info.columns)"
   ]
  },
  {
   "cell_type": "code",
   "execution_count": 20,
   "metadata": {
    "colab": {
     "base_uri": "https://localhost:8080/",
     "height": 112
    },
    "id": "MzKxQJrDraa7",
    "outputId": "c5a84860-56a2-4bde-d3c4-51357b3125ab"
   },
   "outputs": [
    {
     "data": {
      "text/html": [
       "<div>\n",
       "<style scoped>\n",
       "    .dataframe tbody tr th:only-of-type {\n",
       "        vertical-align: middle;\n",
       "    }\n",
       "\n",
       "    .dataframe tbody tr th {\n",
       "        vertical-align: top;\n",
       "    }\n",
       "\n",
       "    .dataframe thead th {\n",
       "        text-align: right;\n",
       "    }\n",
       "</style>\n",
       "<table border=\"1\" class=\"dataframe\">\n",
       "  <thead>\n",
       "    <tr style=\"text-align: right;\">\n",
       "      <th></th>\n",
       "      <th>title</th>\n",
       "      <th>studio</th>\n",
       "      <th>domestic_gross</th>\n",
       "      <th>foreign_gross</th>\n",
       "      <th>year</th>\n",
       "    </tr>\n",
       "  </thead>\n",
       "  <tbody>\n",
       "    <tr>\n",
       "      <th>0</th>\n",
       "      <td>Toy Story 3</td>\n",
       "      <td>BV</td>\n",
       "      <td>415000000.00</td>\n",
       "      <td>652000000</td>\n",
       "      <td>2010</td>\n",
       "    </tr>\n",
       "    <tr>\n",
       "      <th>1</th>\n",
       "      <td>Alice in Wonderland (2010)</td>\n",
       "      <td>BV</td>\n",
       "      <td>334200000.00</td>\n",
       "      <td>691300000</td>\n",
       "      <td>2010</td>\n",
       "    </tr>\n",
       "  </tbody>\n",
       "</table>\n",
       "</div>"
      ],
      "text/plain": [
       "                        title studio  domestic_gross foreign_gross  year\n",
       "0                 Toy Story 3     BV    415000000.00     652000000  2010\n",
       "1  Alice in Wonderland (2010)     BV    334200000.00     691300000  2010"
      ]
     },
     "execution_count": 20,
     "metadata": {},
     "output_type": "execute_result"
    }
   ],
   "source": [
    "# Printing the number of columns \n",
    "bom_info.head(2)"
   ]
  },
  {
   "cell_type": "code",
   "execution_count": 21,
   "metadata": {
    "id": "9mZ33_Qbrn0o"
   },
   "outputs": [],
   "source": [
    "#drop null values \n",
    "bom_info.dropna(inplace=True)"
   ]
  },
  {
   "cell_type": "code",
   "execution_count": 22,
   "metadata": {
    "colab": {
     "base_uri": "https://localhost:8080/"
    },
    "id": "7HOPDuZJrzpG",
    "outputId": "802a0505-025e-41ae-e617-6c71abcf4d19"
   },
   "outputs": [
    {
     "data": {
      "text/plain": [
       "title             0\n",
       "studio            0\n",
       "domestic_gross    0\n",
       "foreign_gross     0\n",
       "year              0\n",
       "dtype: int64"
      ]
     },
     "execution_count": 22,
     "metadata": {},
     "output_type": "execute_result"
    }
   ],
   "source": [
    "#There is no null values present in the dataset.\n",
    "bom_info.isnull().sum()"
   ]
  },
  {
   "cell_type": "code",
   "execution_count": 23,
   "metadata": {
    "id": "algeUVmFsAWu"
   },
   "outputs": [],
   "source": [
    "# Drop Duplicates values\n",
    "bom_info.drop_duplicates(keep='first', inplace=True)"
   ]
  },
  {
   "cell_type": "code",
   "execution_count": 24,
   "metadata": {
    "colab": {
     "base_uri": "https://localhost:8080/"
    },
    "id": "sxusaZQOsLPY",
    "outputId": "a6ece63a-f0c4-458e-df75-a69b4daabac4"
   },
   "outputs": [
    {
     "name": "stdout",
     "output_type": "stream",
     "text": [
      "Are there any duplicated values in Bom data : False\n"
     ]
    }
   ],
   "source": [
    "# Check os theres any duplicate values in the dataset.\n",
    "bom=bom_info.duplicated().any()\n",
    "print(\"Are there any duplicated values in Bom data :\", bom)"
   ]
  },
  {
   "cell_type": "markdown",
   "metadata": {
    "id": "H7FnW-Y2qerC"
   },
   "source": [
    "- **Combining Gross Domestic and Gross Foriegn =Total Earned**"
   ]
  },
  {
   "cell_type": "code",
   "execution_count": 25,
   "metadata": {
    "id": "wgpuJKk7vHXq"
   },
   "outputs": [],
   "source": [
    "bom_info['foreign_gross']= [float(str(i).replace(\",\", \"\")) for i in bom_info['foreign_gross']]\n",
    "\n",
    "bom_info['foreign_gross'] = bom_info['foreign_gross'].astype(float)\n"
   ]
  },
  {
   "cell_type": "code",
   "execution_count": 26,
   "metadata": {
    "id": "g4gBf5BVsQBT"
   },
   "outputs": [],
   "source": [
    "bom_info['Total_Earned']=bom_info['domestic_gross']+bom_info['foreign_gross']"
   ]
  },
  {
   "cell_type": "markdown",
   "metadata": {
    "id": "S1u7DYxUmIIX"
   },
   "source": [
    "- **Concat the dataset based on title** "
   ]
  },
  {
   "cell_type": "code",
   "execution_count": 27,
   "metadata": {
    "id": "O4zmBCDcmIIb"
   },
   "outputs": [],
   "source": [
    "Concat_dataset=movie_info.merge(genre_info, left_on='original_title', right_on='primary_title')"
   ]
  },
  {
   "cell_type": "code",
   "execution_count": 28,
   "metadata": {
    "id": "PRybotaqmIIb",
    "scrolled": true
   },
   "outputs": [],
   "source": [
    "Concat_dataset=Concat_dataset[['id', 'original_language',\n",
    "       'popularity', 'release_date', 'vote_average', 'vote_count'\n",
    "       , 'movie_id', 'primary_title',\n",
    "       'start_year', 'runtime_minutes', 'genres']]"
   ]
  },
  {
   "cell_type": "code",
   "execution_count": 29,
   "metadata": {
    "colab": {
     "base_uri": "https://localhost:8080/",
     "height": 228
    },
    "id": "MAbGIMbOxQRu",
    "outputId": "36d50297-3d3e-4d66-bc56-5765bdfee26b"
   },
   "outputs": [
    {
     "data": {
      "text/html": [
       "<div>\n",
       "<style scoped>\n",
       "    .dataframe tbody tr th:only-of-type {\n",
       "        vertical-align: middle;\n",
       "    }\n",
       "\n",
       "    .dataframe tbody tr th {\n",
       "        vertical-align: top;\n",
       "    }\n",
       "\n",
       "    .dataframe thead th {\n",
       "        text-align: right;\n",
       "    }\n",
       "</style>\n",
       "<table border=\"1\" class=\"dataframe\">\n",
       "  <thead>\n",
       "    <tr style=\"text-align: right;\">\n",
       "      <th></th>\n",
       "      <th>id</th>\n",
       "      <th>original_language</th>\n",
       "      <th>popularity</th>\n",
       "      <th>release_date</th>\n",
       "      <th>vote_average</th>\n",
       "      <th>vote_count</th>\n",
       "      <th>movie_id</th>\n",
       "      <th>primary_title</th>\n",
       "      <th>start_year</th>\n",
       "      <th>runtime_minutes</th>\n",
       "      <th>genres</th>\n",
       "    </tr>\n",
       "  </thead>\n",
       "  <tbody>\n",
       "    <tr>\n",
       "      <th>0</th>\n",
       "      <td>12444</td>\n",
       "      <td>en</td>\n",
       "      <td>33.53</td>\n",
       "      <td>2010-11-19</td>\n",
       "      <td>7.70</td>\n",
       "      <td>10788</td>\n",
       "      <td>tt0926084</td>\n",
       "      <td>Harry Potter and the Deathly Hallows: Part 1</td>\n",
       "      <td>2010</td>\n",
       "      <td>146.00</td>\n",
       "      <td>Adventure,Fantasy,Mystery</td>\n",
       "    </tr>\n",
       "    <tr>\n",
       "      <th>1</th>\n",
       "      <td>10191</td>\n",
       "      <td>en</td>\n",
       "      <td>28.73</td>\n",
       "      <td>2010-03-26</td>\n",
       "      <td>7.70</td>\n",
       "      <td>7610</td>\n",
       "      <td>tt0892769</td>\n",
       "      <td>How to Train Your Dragon</td>\n",
       "      <td>2010</td>\n",
       "      <td>98.00</td>\n",
       "      <td>Action,Adventure,Animation</td>\n",
       "    </tr>\n",
       "  </tbody>\n",
       "</table>\n",
       "</div>"
      ],
      "text/plain": [
       "      id original_language  popularity release_date  vote_average  vote_count  \\\n",
       "0  12444                en       33.53   2010-11-19          7.70       10788   \n",
       "1  10191                en       28.73   2010-03-26          7.70        7610   \n",
       "\n",
       "    movie_id                                 primary_title  start_year  \\\n",
       "0  tt0926084  Harry Potter and the Deathly Hallows: Part 1        2010   \n",
       "1  tt0892769                      How to Train Your Dragon        2010   \n",
       "\n",
       "   runtime_minutes                      genres  \n",
       "0           146.00   Adventure,Fantasy,Mystery  \n",
       "1            98.00  Action,Adventure,Animation  "
      ]
     },
     "execution_count": 29,
     "metadata": {},
     "output_type": "execute_result"
    }
   ],
   "source": [
    " Concat_dataset.head(2)"
   ]
  },
  {
   "cell_type": "code",
   "execution_count": 30,
   "metadata": {
    "id": "Kbke7AtDw3o-"
   },
   "outputs": [],
   "source": [
    "Concat_dataset=Concat_dataset.merge(bom_info, left_on='primary_title', right_on='title')"
   ]
  },
  {
   "cell_type": "code",
   "execution_count": 31,
   "metadata": {
    "colab": {
     "base_uri": "https://localhost:8080/",
     "height": 292
    },
    "id": "h3rpRjyBmIIb",
    "outputId": "2146b2e3-c69e-41f3-a643-b189aa42f716"
   },
   "outputs": [
    {
     "data": {
      "text/html": [
       "<div>\n",
       "<style scoped>\n",
       "    .dataframe tbody tr th:only-of-type {\n",
       "        vertical-align: middle;\n",
       "    }\n",
       "\n",
       "    .dataframe tbody tr th {\n",
       "        vertical-align: top;\n",
       "    }\n",
       "\n",
       "    .dataframe thead th {\n",
       "        text-align: right;\n",
       "    }\n",
       "</style>\n",
       "<table border=\"1\" class=\"dataframe\">\n",
       "  <thead>\n",
       "    <tr style=\"text-align: right;\">\n",
       "      <th></th>\n",
       "      <th>id</th>\n",
       "      <th>original_language</th>\n",
       "      <th>popularity</th>\n",
       "      <th>release_date</th>\n",
       "      <th>vote_average</th>\n",
       "      <th>vote_count</th>\n",
       "      <th>movie_id</th>\n",
       "      <th>primary_title</th>\n",
       "      <th>start_year</th>\n",
       "      <th>runtime_minutes</th>\n",
       "      <th>genres</th>\n",
       "      <th>title</th>\n",
       "      <th>studio</th>\n",
       "      <th>domestic_gross</th>\n",
       "      <th>foreign_gross</th>\n",
       "      <th>year</th>\n",
       "      <th>Total_Earned</th>\n",
       "    </tr>\n",
       "  </thead>\n",
       "  <tbody>\n",
       "    <tr>\n",
       "      <th>0</th>\n",
       "      <td>10191</td>\n",
       "      <td>en</td>\n",
       "      <td>28.73</td>\n",
       "      <td>2010-03-26</td>\n",
       "      <td>7.70</td>\n",
       "      <td>7610</td>\n",
       "      <td>tt0892769</td>\n",
       "      <td>How to Train Your Dragon</td>\n",
       "      <td>2010</td>\n",
       "      <td>98.00</td>\n",
       "      <td>Action,Adventure,Animation</td>\n",
       "      <td>How to Train Your Dragon</td>\n",
       "      <td>P/DW</td>\n",
       "      <td>217600000.00</td>\n",
       "      <td>277300000.00</td>\n",
       "      <td>2010</td>\n",
       "      <td>494900000.00</td>\n",
       "    </tr>\n",
       "    <tr>\n",
       "      <th>1</th>\n",
       "      <td>10138</td>\n",
       "      <td>en</td>\n",
       "      <td>28.52</td>\n",
       "      <td>2010-05-07</td>\n",
       "      <td>6.80</td>\n",
       "      <td>12368</td>\n",
       "      <td>tt1228705</td>\n",
       "      <td>Iron Man 2</td>\n",
       "      <td>2010</td>\n",
       "      <td>124.00</td>\n",
       "      <td>Action,Adventure,Sci-Fi</td>\n",
       "      <td>Iron Man 2</td>\n",
       "      <td>Par.</td>\n",
       "      <td>312400000.00</td>\n",
       "      <td>311500000.00</td>\n",
       "      <td>2010</td>\n",
       "      <td>623900000.00</td>\n",
       "    </tr>\n",
       "  </tbody>\n",
       "</table>\n",
       "</div>"
      ],
      "text/plain": [
       "      id original_language  popularity release_date  vote_average  vote_count  \\\n",
       "0  10191                en       28.73   2010-03-26          7.70        7610   \n",
       "1  10138                en       28.52   2010-05-07          6.80       12368   \n",
       "\n",
       "    movie_id             primary_title  start_year  runtime_minutes  \\\n",
       "0  tt0892769  How to Train Your Dragon        2010            98.00   \n",
       "1  tt1228705                Iron Man 2        2010           124.00   \n",
       "\n",
       "                       genres                     title studio  \\\n",
       "0  Action,Adventure,Animation  How to Train Your Dragon   P/DW   \n",
       "1     Action,Adventure,Sci-Fi                Iron Man 2   Par.   \n",
       "\n",
       "   domestic_gross  foreign_gross  year  Total_Earned  \n",
       "0    217600000.00   277300000.00  2010  494900000.00  \n",
       "1    312400000.00   311500000.00  2010  623900000.00  "
      ]
     },
     "execution_count": 31,
     "metadata": {},
     "output_type": "execute_result"
    }
   ],
   "source": [
    "Concat_dataset.head(2)"
   ]
  },
  {
   "cell_type": "code",
   "execution_count": 32,
   "metadata": {
    "colab": {
     "base_uri": "https://localhost:8080/"
    },
    "id": "gk7TEeulyRTJ",
    "outputId": "0c6e71c6-0bf2-48b1-d846-d93498c299dd"
   },
   "outputs": [
    {
     "data": {
      "text/plain": [
       "Index(['id', 'original_language', 'popularity', 'release_date', 'vote_average',\n",
       "       'vote_count', 'movie_id', 'primary_title', 'start_year',\n",
       "       'runtime_minutes', 'genres', 'title', 'studio', 'domestic_gross',\n",
       "       'foreign_gross', 'year', 'Total_Earned'],\n",
       "      dtype='object')"
      ]
     },
     "execution_count": 32,
     "metadata": {},
     "output_type": "execute_result"
    }
   ],
   "source": [
    "Concat_dataset.columns"
   ]
  },
  {
   "cell_type": "code",
   "execution_count": 33,
   "metadata": {
    "id": "_3YinLEjxu9f"
   },
   "outputs": [],
   "source": [
    "Average_of_Total_Earned = Concat_dataset['Total_Earned'].mean()\n",
    "more_then_average=Concat_dataset.loc[Concat_dataset['Total_Earned']>Average_of_Total_Earned]"
   ]
  },
  {
   "cell_type": "code",
   "execution_count": 48,
   "metadata": {
    "colab": {
     "base_uri": "https://localhost:8080/",
     "height": 112
    },
    "id": "1Tf3mgVTzwNh",
    "outputId": "61e908f9-3e35-47bc-c9c0-d55c63bbc60a"
   },
   "outputs": [
    {
     "data": {
      "text/html": [
       "<div>\n",
       "<style scoped>\n",
       "    .dataframe tbody tr th:only-of-type {\n",
       "        vertical-align: middle;\n",
       "    }\n",
       "\n",
       "    .dataframe tbody tr th {\n",
       "        vertical-align: top;\n",
       "    }\n",
       "\n",
       "    .dataframe thead th {\n",
       "        text-align: right;\n",
       "    }\n",
       "</style>\n",
       "<table border=\"1\" class=\"dataframe\">\n",
       "  <thead>\n",
       "    <tr style=\"text-align: right;\">\n",
       "      <th></th>\n",
       "      <th>genres</th>\n",
       "    </tr>\n",
       "  </thead>\n",
       "  <tbody>\n",
       "    <tr>\n",
       "      <th>0</th>\n",
       "      <td>Action,Adventure,Animation</td>\n",
       "    </tr>\n",
       "    <tr>\n",
       "      <th>1</th>\n",
       "      <td>Action,Adventure,Sci-Fi</td>\n",
       "    </tr>\n",
       "    <tr>\n",
       "      <th>2</th>\n",
       "      <td>Action,Adventure,Sci-Fi</td>\n",
       "    </tr>\n",
       "    <tr>\n",
       "      <th>3</th>\n",
       "      <td>Adventure,Animation,Comedy</td>\n",
       "    </tr>\n",
       "    <tr>\n",
       "      <th>4</th>\n",
       "      <td>Animation,Comedy,Family</td>\n",
       "    </tr>\n",
       "  </tbody>\n",
       "</table>\n",
       "</div>"
      ],
      "text/plain": [
       "                       genres\n",
       "0  Action,Adventure,Animation\n",
       "1     Action,Adventure,Sci-Fi\n",
       "2     Action,Adventure,Sci-Fi\n",
       "3  Adventure,Animation,Comedy\n",
       "4     Animation,Comedy,Family"
      ]
     },
     "execution_count": 48,
     "metadata": {},
     "output_type": "execute_result"
    }
   ],
   "source": [
    "more_then_average[['genres']].head(5)"
   ]
  },
  {
   "cell_type": "code",
   "execution_count": 35,
   "metadata": {
    "colab": {
     "base_uri": "https://localhost:8080/",
     "height": 324
    },
    "id": "t-kHFLmr0vDf",
    "outputId": "a838e8ec-cf64-4052-f783-eb6b2ab69c08"
   },
   "outputs": [
    {
     "data": {
      "text/html": [
       "<div>\n",
       "<style scoped>\n",
       "    .dataframe tbody tr th:only-of-type {\n",
       "        vertical-align: middle;\n",
       "    }\n",
       "\n",
       "    .dataframe tbody tr th {\n",
       "        vertical-align: top;\n",
       "    }\n",
       "\n",
       "    .dataframe thead th {\n",
       "        text-align: right;\n",
       "    }\n",
       "</style>\n",
       "<table border=\"1\" class=\"dataframe\">\n",
       "  <thead>\n",
       "    <tr style=\"text-align: right;\">\n",
       "      <th></th>\n",
       "      <th>id</th>\n",
       "      <th>original_language</th>\n",
       "      <th>popularity</th>\n",
       "      <th>release_date</th>\n",
       "      <th>vote_average</th>\n",
       "      <th>vote_count</th>\n",
       "      <th>movie_id</th>\n",
       "      <th>primary_title</th>\n",
       "      <th>start_year</th>\n",
       "      <th>runtime_minutes</th>\n",
       "      <th>genres</th>\n",
       "      <th>title</th>\n",
       "      <th>studio</th>\n",
       "      <th>domestic_gross</th>\n",
       "      <th>foreign_gross</th>\n",
       "      <th>year</th>\n",
       "      <th>Total_Earned</th>\n",
       "    </tr>\n",
       "  </thead>\n",
       "  <tbody>\n",
       "    <tr>\n",
       "      <th>1197</th>\n",
       "      <td>99861</td>\n",
       "      <td>en</td>\n",
       "      <td>44.38</td>\n",
       "      <td>2015-05-01</td>\n",
       "      <td>7.30</td>\n",
       "      <td>13457</td>\n",
       "      <td>tt2395427</td>\n",
       "      <td>Avengers: Age of Ultron</td>\n",
       "      <td>2015</td>\n",
       "      <td>141.00</td>\n",
       "      <td>Action,Adventure,Sci-Fi</td>\n",
       "      <td>Avengers: Age of Ultron</td>\n",
       "      <td>BV</td>\n",
       "      <td>459000000.00</td>\n",
       "      <td>946400000.00</td>\n",
       "      <td>2015</td>\n",
       "      <td>1405400000.00</td>\n",
       "    </tr>\n",
       "    <tr>\n",
       "      <th>525</th>\n",
       "      <td>86841</td>\n",
       "      <td>en</td>\n",
       "      <td>2.06</td>\n",
       "      <td>2011-01-18</td>\n",
       "      <td>5.10</td>\n",
       "      <td>11</td>\n",
       "      <td>tt1825683</td>\n",
       "      <td>Black Panther</td>\n",
       "      <td>2018</td>\n",
       "      <td>134.00</td>\n",
       "      <td>Action,Adventure,Sci-Fi</td>\n",
       "      <td>Black Panther</td>\n",
       "      <td>BV</td>\n",
       "      <td>700100000.00</td>\n",
       "      <td>646900000.00</td>\n",
       "      <td>2018</td>\n",
       "      <td>1347000000.00</td>\n",
       "    </tr>\n",
       "    <tr>\n",
       "      <th>526</th>\n",
       "      <td>284054</td>\n",
       "      <td>en</td>\n",
       "      <td>44.14</td>\n",
       "      <td>2018-02-16</td>\n",
       "      <td>7.40</td>\n",
       "      <td>12365</td>\n",
       "      <td>tt1825683</td>\n",
       "      <td>Black Panther</td>\n",
       "      <td>2018</td>\n",
       "      <td>134.00</td>\n",
       "      <td>Action,Adventure,Sci-Fi</td>\n",
       "      <td>Black Panther</td>\n",
       "      <td>BV</td>\n",
       "      <td>700100000.00</td>\n",
       "      <td>646900000.00</td>\n",
       "      <td>2018</td>\n",
       "      <td>1347000000.00</td>\n",
       "    </tr>\n",
       "  </tbody>\n",
       "</table>\n",
       "</div>"
      ],
      "text/plain": [
       "          id original_language  popularity release_date  vote_average  \\\n",
       "1197   99861                en       44.38   2015-05-01          7.30   \n",
       "525    86841                en        2.06   2011-01-18          5.10   \n",
       "526   284054                en       44.14   2018-02-16          7.40   \n",
       "\n",
       "      vote_count   movie_id            primary_title  start_year  \\\n",
       "1197       13457  tt2395427  Avengers: Age of Ultron        2015   \n",
       "525           11  tt1825683            Black Panther        2018   \n",
       "526        12365  tt1825683            Black Panther        2018   \n",
       "\n",
       "      runtime_minutes                   genres                    title  \\\n",
       "1197           141.00  Action,Adventure,Sci-Fi  Avengers: Age of Ultron   \n",
       "525            134.00  Action,Adventure,Sci-Fi            Black Panther   \n",
       "526            134.00  Action,Adventure,Sci-Fi            Black Panther   \n",
       "\n",
       "     studio  domestic_gross  foreign_gross  year  Total_Earned  \n",
       "1197     BV    459000000.00   946400000.00  2015 1405400000.00  \n",
       "525      BV    700100000.00   646900000.00  2018 1347000000.00  \n",
       "526      BV    700100000.00   646900000.00  2018 1347000000.00  "
      ]
     },
     "execution_count": 35,
     "metadata": {},
     "output_type": "execute_result"
    }
   ],
   "source": [
    "Concat_dataset.sort_values('Total_Earned',ascending=False).head(3)\n"
   ]
  },
  {
   "cell_type": "code",
   "execution_count": 36,
   "metadata": {
    "colab": {
     "base_uri": "https://localhost:8080/",
     "height": 225
    },
    "id": "rtmW5K7A4G5j",
    "outputId": "6e6034a5-100f-43bf-c212-38a0ceb578d4"
   },
   "outputs": [
    {
     "data": {
      "text/html": [
       "<div>\n",
       "<style scoped>\n",
       "    .dataframe tbody tr th:only-of-type {\n",
       "        vertical-align: middle;\n",
       "    }\n",
       "\n",
       "    .dataframe tbody tr th {\n",
       "        vertical-align: top;\n",
       "    }\n",
       "\n",
       "    .dataframe thead th {\n",
       "        text-align: right;\n",
       "    }\n",
       "</style>\n",
       "<table border=\"1\" class=\"dataframe\">\n",
       "  <thead>\n",
       "    <tr style=\"text-align: right;\">\n",
       "      <th></th>\n",
       "      <th>id</th>\n",
       "      <th>original_language</th>\n",
       "      <th>popularity</th>\n",
       "      <th>release_date</th>\n",
       "      <th>vote_average</th>\n",
       "      <th>vote_count</th>\n",
       "      <th>movie_id</th>\n",
       "      <th>primary_title</th>\n",
       "      <th>start_year</th>\n",
       "      <th>runtime_minutes</th>\n",
       "      <th>genres</th>\n",
       "      <th>title</th>\n",
       "      <th>studio</th>\n",
       "      <th>domestic_gross</th>\n",
       "      <th>foreign_gross</th>\n",
       "      <th>year</th>\n",
       "      <th>Total_Earned</th>\n",
       "    </tr>\n",
       "  </thead>\n",
       "  <tbody>\n",
       "    <tr>\n",
       "      <th>761</th>\n",
       "      <td>101173</td>\n",
       "      <td>en</td>\n",
       "      <td>8.02</td>\n",
       "      <td>2012-01-19</td>\n",
       "      <td>6.00</td>\n",
       "      <td>215</td>\n",
       "      <td>tt3313066</td>\n",
       "      <td>Coriolanus</td>\n",
       "      <td>2014</td>\n",
       "      <td>192.00</td>\n",
       "      <td>Drama,History,War</td>\n",
       "      <td>Coriolanus</td>\n",
       "      <td>Wein.</td>\n",
       "      <td>757000.00</td>\n",
       "      <td>315000.00</td>\n",
       "      <td>2012</td>\n",
       "      <td>1072000.00</td>\n",
       "    </tr>\n",
       "    <tr>\n",
       "      <th>517</th>\n",
       "      <td>359926</td>\n",
       "      <td>es</td>\n",
       "      <td>0.60</td>\n",
       "      <td>2015-04-11</td>\n",
       "      <td>6.00</td>\n",
       "      <td>2</td>\n",
       "      <td>tt1403047</td>\n",
       "      <td>Aurora</td>\n",
       "      <td>2010</td>\n",
       "      <td>181.00</td>\n",
       "      <td>Drama</td>\n",
       "      <td>Aurora</td>\n",
       "      <td>CGld</td>\n",
       "      <td>5700.00</td>\n",
       "      <td>5100.00</td>\n",
       "      <td>2011</td>\n",
       "      <td>10800.00</td>\n",
       "    </tr>\n",
       "    <tr>\n",
       "      <th>511</th>\n",
       "      <td>81527</td>\n",
       "      <td>ro</td>\n",
       "      <td>2.21</td>\n",
       "      <td>2011-06-29</td>\n",
       "      <td>5.80</td>\n",
       "      <td>11</td>\n",
       "      <td>tt1403047</td>\n",
       "      <td>Aurora</td>\n",
       "      <td>2010</td>\n",
       "      <td>181.00</td>\n",
       "      <td>Drama</td>\n",
       "      <td>Aurora</td>\n",
       "      <td>CGld</td>\n",
       "      <td>5700.00</td>\n",
       "      <td>5100.00</td>\n",
       "      <td>2011</td>\n",
       "      <td>10800.00</td>\n",
       "    </tr>\n",
       "  </tbody>\n",
       "</table>\n",
       "</div>"
      ],
      "text/plain": [
       "         id original_language  popularity release_date  vote_average  \\\n",
       "761  101173                en        8.02   2012-01-19          6.00   \n",
       "517  359926                es        0.60   2015-04-11          6.00   \n",
       "511   81527                ro        2.21   2011-06-29          5.80   \n",
       "\n",
       "     vote_count   movie_id primary_title  start_year  runtime_minutes  \\\n",
       "761         215  tt3313066    Coriolanus        2014           192.00   \n",
       "517           2  tt1403047        Aurora        2010           181.00   \n",
       "511          11  tt1403047        Aurora        2010           181.00   \n",
       "\n",
       "                genres       title studio  domestic_gross  foreign_gross  \\\n",
       "761  Drama,History,War  Coriolanus  Wein.       757000.00      315000.00   \n",
       "517              Drama      Aurora   CGld         5700.00        5100.00   \n",
       "511              Drama      Aurora   CGld         5700.00        5100.00   \n",
       "\n",
       "     year  Total_Earned  \n",
       "761  2012    1072000.00  \n",
       "517  2011      10800.00  \n",
       "511  2011      10800.00  "
      ]
     },
     "execution_count": 36,
     "metadata": {},
     "output_type": "execute_result"
    }
   ],
   "source": [
    "Concat_dataset.sort_values('runtime_minutes',ascending=False).head(3)"
   ]
  },
  {
   "cell_type": "markdown",
   "metadata": {
    "id": "tunlXPp4Q1pI"
   },
   "source": [
    "## Data Visualization"
   ]
  },
  {
   "cell_type": "markdown",
   "metadata": {
    "id": "gxeAWjei3i-q"
   },
   "source": [
    "#### Find genre "
   ]
  },
  {
   "cell_type": "code",
   "execution_count": 37,
   "metadata": {
    "id": "g1nSo6g53iHI"
   },
   "outputs": [],
   "source": [
    "Top_Popular_Genre_Movies = Concat_dataset.groupby(['genres'])['Total_Earned'].mean().sort_values(ascending=False).reset_index()"
   ]
  },
  {
   "cell_type": "code",
   "execution_count": 38,
   "metadata": {
    "id": "zv3Uwqek3_jl"
   },
   "outputs": [],
   "source": [
    "Top_Popular_Genre_Movies_5=Top_Popular_Genre_Movies.head(5)"
   ]
  },
  {
   "cell_type": "code",
   "execution_count": 55,
   "metadata": {
    "colab": {
     "base_uri": "https://localhost:8080/",
     "height": 552
    },
    "id": "yA2do-S79G1N",
    "outputId": "a0507fcb-d177-4c5b-9613-0b411edcfa3b",
    "scrolled": true
   },
   "outputs": [
    {
     "data": {
      "image/png": "[encoded data removed]",
      "text/plain": [
       "<Figure size 1152x648 with 1 Axes>"
      ]
     },
     "metadata": {
      "needs_background": "light"
     },
     "output_type": "display_data"
    }
   ],
   "source": [
    " \n",
    "name = Top_Popular_Genre_Movies_5['genres']\n",
    "price = Top_Popular_Genre_Movies_5['Total_Earned']\n",
    " \n",
    "# Figure Size\n",
    "fig, ax = plt.subplots(figsize =(16, 9))\n",
    "c = ['orange','orange','orange','yellow','yellow']\n",
    "\n",
    "# Horizontal Bar Plot\n",
    "ax.barh(name,price, color = c)\n",
    " \n",
    "# Remove axes splines\n",
    "for s in ['top', 'bottom', 'left', 'right']:\n",
    "    ax.spines[s].set_visible(False)\n",
    " \n",
    "# Remove x, y Ticks\n",
    "ax.xaxis.set_ticks_position('none')\n",
    "ax.yaxis.set_ticks_position('none')\n",
    " \n",
    "# Add padding between axes and labels\n",
    "ax.xaxis.set_tick_params(pad = 5)\n",
    "ax.yaxis.set_tick_params(pad = 10)\n",
    " \n",
    "# Add x, y gridlines\n",
    "ax.grid(b = True, color ='grey',\n",
    "        linestyle ='-.', linewidth = 0.5,\n",
    "        alpha = 0.2)\n",
    " \n",
    "# Show top values\n",
    "ax.invert_yaxis()\n",
    " \n",
    "# Add annotation to bars\n",
    "for i in ax.patches:\n",
    "    plt.text(i.get_width()+0.2, i.get_y()+0.5,\n",
    "             str(round((i.get_width()), 2)),\n",
    "             fontsize = 10, fontweight ='bold',\n",
    "             color ='grey')\n",
    " \n",
    "# Add Plot Title\n",
    "ax.set_title('Top successful Genres ',\n",
    "             loc ='left',fontsize=20 )\n",
    "ax.set_xlabel('Average Total Earned')\n",
    " \n",
    "\n",
    "# Show Plot\n",
    "plt.show()"
   ]
  },
  {
   "cell_type": "code",
   "execution_count": 40,
   "metadata": {
    "colab": {
     "base_uri": "https://localhost:8080/",
     "height": 206
    },
    "id": "dIMx9kMN8y7Z",
    "outputId": "30c3134f-062e-435e-bbe7-5a0e72e4accc"
   },
   "outputs": [
    {
     "data": {
      "text/html": [
       "<div>\n",
       "<style scoped>\n",
       "    .dataframe tbody tr th:only-of-type {\n",
       "        vertical-align: middle;\n",
       "    }\n",
       "\n",
       "    .dataframe tbody tr th {\n",
       "        vertical-align: top;\n",
       "    }\n",
       "\n",
       "    .dataframe thead th {\n",
       "        text-align: right;\n",
       "    }\n",
       "</style>\n",
       "<table border=\"1\" class=\"dataframe\">\n",
       "  <thead>\n",
       "    <tr style=\"text-align: right;\">\n",
       "      <th></th>\n",
       "      <th>genres</th>\n",
       "      <th>Total_Earned</th>\n",
       "    </tr>\n",
       "  </thead>\n",
       "  <tbody>\n",
       "    <tr>\n",
       "      <th>0</th>\n",
       "      <td>Adventure,Drama,Sport</td>\n",
       "      <td>1276400000.00</td>\n",
       "    </tr>\n",
       "    <tr>\n",
       "      <th>1</th>\n",
       "      <td>Fantasy,Romance</td>\n",
       "      <td>1276400000.00</td>\n",
       "    </tr>\n",
       "    <tr>\n",
       "      <th>2</th>\n",
       "      <td>Documentary,Drama,Sport</td>\n",
       "      <td>821900000.00</td>\n",
       "    </tr>\n",
       "    <tr>\n",
       "      <th>3</th>\n",
       "      <td>Sci-Fi</td>\n",
       "      <td>821900000.00</td>\n",
       "    </tr>\n",
       "    <tr>\n",
       "      <th>4</th>\n",
       "      <td>Adventure,Fantasy</td>\n",
       "      <td>704033333.00</td>\n",
       "    </tr>\n",
       "  </tbody>\n",
       "</table>\n",
       "</div>"
      ],
      "text/plain": [
       "                    genres  Total_Earned\n",
       "0    Adventure,Drama,Sport 1276400000.00\n",
       "1          Fantasy,Romance 1276400000.00\n",
       "2  Documentary,Drama,Sport  821900000.00\n",
       "3                   Sci-Fi  821900000.00\n",
       "4        Adventure,Fantasy  704033333.00"
      ]
     },
     "execution_count": 40,
     "metadata": {},
     "output_type": "execute_result"
    }
   ],
   "source": [
    "Top_Popular_Genre_Movies_5.head(5)"
   ]
  },
  {
   "cell_type": "code",
   "execution_count": 41,
   "metadata": {
    "id": "0KBuIUxv630O"
   },
   "outputs": [],
   "source": [
    "Top_Popular_Studio_Movies = Concat_dataset.groupby(['studio'])['Total_Earned'].mean().sort_values(ascending=False).reset_index()\n"
   ]
  },
  {
   "cell_type": "code",
   "execution_count": 42,
   "metadata": {
    "id": "5XYrciV97Ke4"
   },
   "outputs": [],
   "source": [
    "Top_Popular_Studio_Movies_5=Top_Popular_Studio_Movies.head(5)"
   ]
  },
  {
   "cell_type": "code",
   "execution_count": 43,
   "metadata": {
    "colab": {
     "base_uri": "https://localhost:8080/",
     "height": 206
    },
    "id": "33MB72dqHJTB",
    "outputId": "f211715d-d335-4c9a-f316-bfc89c7ab316"
   },
   "outputs": [
    {
     "data": {
      "text/html": [
       "<div>\n",
       "<style scoped>\n",
       "    .dataframe tbody tr th:only-of-type {\n",
       "        vertical-align: middle;\n",
       "    }\n",
       "\n",
       "    .dataframe tbody tr th {\n",
       "        vertical-align: top;\n",
       "    }\n",
       "\n",
       "    .dataframe thead th {\n",
       "        text-align: right;\n",
       "    }\n",
       "</style>\n",
       "<table border=\"1\" class=\"dataframe\">\n",
       "  <thead>\n",
       "    <tr style=\"text-align: right;\">\n",
       "      <th></th>\n",
       "      <th>studio</th>\n",
       "      <th>Total_Earned</th>\n",
       "    </tr>\n",
       "  </thead>\n",
       "  <tbody>\n",
       "    <tr>\n",
       "      <th>0</th>\n",
       "      <td>BV</td>\n",
       "      <td>523832171.97</td>\n",
       "    </tr>\n",
       "    <tr>\n",
       "      <th>1</th>\n",
       "      <td>P/DW</td>\n",
       "      <td>507650000.00</td>\n",
       "    </tr>\n",
       "    <tr>\n",
       "      <th>2</th>\n",
       "      <td>GrtIndia</td>\n",
       "      <td>254200000.00</td>\n",
       "    </tr>\n",
       "    <tr>\n",
       "      <th>3</th>\n",
       "      <td>WB</td>\n",
       "      <td>233757415.98</td>\n",
       "    </tr>\n",
       "    <tr>\n",
       "      <th>4</th>\n",
       "      <td>Sony</td>\n",
       "      <td>232238271.57</td>\n",
       "    </tr>\n",
       "  </tbody>\n",
       "</table>\n",
       "</div>"
      ],
      "text/plain": [
       "     studio  Total_Earned\n",
       "0        BV  523832171.97\n",
       "1      P/DW  507650000.00\n",
       "2  GrtIndia  254200000.00\n",
       "3        WB  233757415.98\n",
       "4      Sony  232238271.57"
      ]
     },
     "execution_count": 43,
     "metadata": {},
     "output_type": "execute_result"
    }
   ],
   "source": [
    "Top_Popular_Studio_Movies_5.head()"
   ]
  },
  {
   "cell_type": "code",
   "execution_count": 56,
   "metadata": {
    "colab": {
     "base_uri": "https://localhost:8080/",
     "height": 749
    },
    "id": "p1qQNW_VAQD0",
    "outputId": "9e8eae46-e4b2-411e-83ad-9518557ca4d7",
    "scrolled": false
   },
   "outputs": [
    {
     "data": {
      "image/png": "[encoded data removed]",
      "text/plain": [
       "<Figure size 1440x720 with 1 Axes>"
      ]
     },
     "metadata": {
      "needs_background": "light"
     },
     "output_type": "display_data"
    }
   ],
   "source": [
    "name = Top_Popular_Studio_Movies_5['studio']\n",
    "price = Top_Popular_Studio_Movies_5['Total_Earned']\n",
    " \n",
    "# Importing libraries for dataframe creation\n",
    "# and graph plotting\n",
    "import numpy as np\n",
    "import pandas as pd\n",
    "import seaborn as sns\n",
    "import matplotlib.pyplot as plt\n",
    "\n",
    "# Defining the plot size\n",
    "plt.figure(figsize=(20, 10))\n",
    "\n",
    "# Defining the values for x-axis, y-axis\n",
    "# and from which dataframe the values are to be picked\n",
    "plots = sns.barplot(x=\"studio\", y=\"Total_Earned\", data=Top_Popular_Studio_Movies_5)\n",
    "\n",
    "# Iterating over the bars one-by-one\n",
    "for bar in plots.patches:\n",
    "  plots.annotate(format(bar.get_height(), '.2f'),\n",
    "\t\t\t\t(bar.get_x() + bar.get_width() / 2,\n",
    "\t\t\t\t\tbar.get_height()), ha='center', va='center',\n",
    "\t\t\t\tsize=15, xytext=(0, 8),\n",
    "\t\t\t\ttextcoords='offset points')\n",
    "\n",
    "# Setting the label for x-axis\n",
    "plt.xlabel(\"Studio\", size=20)\n",
    "\n",
    "# Setting the label for y-axis\n",
    "plt.ylabel(\"Average Total Earned\", size=14)\n",
    "\n",
    "# Setting the title for the graph\n",
    "plt.title(\"Top studio production\",size=30)\n",
    "\n",
    "# Finally showing the plot\n",
    "plt.show()\n",
    "\n",
    " "
   ]
  },
  {
   "cell_type": "code",
   "execution_count": 61,
   "metadata": {
    "colab": {
     "base_uri": "https://localhost:8080/",
     "height": 512
    },
    "id": "72ClL5zzMb9K",
    "outputId": "88717900-7032-4122-a23b-eef86d080740"
   },
   "outputs": [
    {
     "data": {
      "image/png": "[encoded data removed]",
      "text/plain": [
       "<Figure size 1440x720 with 1 Axes>"
      ]
     },
     "metadata": {
      "needs_background": "light"
     },
     "output_type": "display_data"
    }
   ],
   "source": [
    "x = Concat_dataset['Total_Earned']\n",
    "y = Concat_dataset['runtime_minutes']\n",
    "\n",
    "plt.figure(figsize=(20,10))\n",
    "\n",
    "plt.scatter(x, y, color = '#88c999')\n",
    "plt.title(\"Total Earned Vs Movie Runtime\",size=20)\n",
    "plt.xlabel(\"Average Total Earned in billion\",size=20)\n",
    "plt.ylabel(\"Movie Runtime\",size=20)\n",
    "plt.show()\n"
   ]
  },
  {
   "cell_type": "code",
   "execution_count": 46,
   "metadata": {
    "colab": {
     "base_uri": "https://localhost:8080/"
    },
    "id": "KEueV42hRgmT",
    "outputId": "eeaefd1a-6ff8-428e-d791-4a0692f5aa7d"
   },
   "outputs": [
    {
     "data": {
      "text/plain": [
       "(10800.0, 1405400000.0)"
      ]
     },
     "execution_count": 46,
     "metadata": {},
     "output_type": "execute_result"
    }
   ],
   "source": [
    "min(x),max(x)"
   ]
  },
  {
   "cell_type": "markdown",
   "metadata": {
    "id": "nycAl9mOQqdd"
   },
   "source": [
    "### Conclusion of findings"
   ]
  },
  {
   "attachments": {
    "image.png": {
     "image/png": "[encoded data removed]"
    }
   },
   "cell_type": "markdown",
   "metadata": {
    "id": "8NcvaIXPThel"
   },
   "source": [
    "\n",
    "In this report, I discussed the findings of a recommendation system that I developed for a dataset of movies. To sum up, the data analysis indicates that Microsoft should prioritize fantasy romance or adventure drama sports films with a budget of less than $50 million and a running time of 100 to 150 minutes. For even higher quality, Microsoft really needs to team up with a reputable studio production business. Microsoft's chances of being successful in the film industry will be increased if they adhere to these recommendations.![image.png](attachment:image.png)"
   ]
  }
 ],
 "metadata": {
  "colab": {
   "provenance": []
  },
  "kernelspec": {
   "display_name": "Python (learn-env)",
   "language": "python",
   "name": "learn-env"
  },
  "language_info": {
   "codemirror_mode": {
    "name": "ipython",
    "version": 3
   },
   "file_extension": ".py",
   "mimetype": "text/x-python",
   "name": "python",
   "nbconvert_exporter": "python",
   "pygments_lexer": "ipython3",
   "version": "3.8.5"
  }
 },
 "nbformat": 4,
 "nbformat_minor": 1
}
